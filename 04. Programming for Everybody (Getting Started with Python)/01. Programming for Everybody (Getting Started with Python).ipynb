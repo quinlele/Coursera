{
  "nbformat": 4,
  "nbformat_minor": 0,
  "metadata": {
    "colab": {
      "name": "Untitled0.ipynb",
      "provenance": []
    },
    "kernelspec": {
      "name": "python3",
      "display_name": "Python 3"
    }
  },
  "cells": [
    {
      "cell_type": "markdown",
      "metadata": {
        "id": "urZw4j6BPP1g",
        "colab_type": "text"
      },
      "source": [
        "Write a program that uses **input** to prompt a user for their name and then welcomes them. Note that **input** will pop up a dialog box. Enter **Sarah** in the pop-up box when you are prompted so your output will match the desired output."
      ]
    },
    {
      "cell_type": "code",
      "metadata": {
        "id": "otd3jyeIPa80",
        "colab_type": "code",
        "colab": {
          "base_uri": "https://localhost:8080/",
          "height": 52
        },
        "outputId": "20b7682f-d4b1-4f68-eb3e-575dd4e955dd"
      },
      "source": [
        "# The code below almost works\n",
        "\n",
        "name = input(\"Enter your name\")\n",
        "print(\"Hello\", name)"
      ],
      "execution_count": 1,
      "outputs": [
        {
          "output_type": "stream",
          "text": [
            "Enter your nameSarah\n",
            "Hello Sarah\n"
          ],
          "name": "stdout"
        }
      ]
    },
    {
      "cell_type": "markdown",
      "metadata": {
        "id": "PTV7F4ClPi0F",
        "colab_type": "text"
      },
      "source": [
        "Write a program to prompt the user for hours and rate per hour using input to compute gross pay. Use 35 hours and a rate of 2.75 per hour to test the program (the pay should be 96.25). You should use **input** to read a string and **float()** to convert the string to a number. Do not worry about error checking or bad user data."
      ]
    },
    {
      "cell_type": "code",
      "metadata": {
        "id": "acgSyDQCRkcy",
        "colab_type": "code",
        "colab": {}
      },
      "source": [
        "# This first line is provided for you\n",
        "\n",
        "hrs = input(\"Enter Hours:\")\n",
        "rate = input(\"Rate:\")\n",
        "print(\"Pay:\", str(float(hrs) * float(rate)))"
      ],
      "execution_count": null,
      "outputs": []
    },
    {
      "cell_type": "markdown",
      "metadata": {
        "id": "9m_3FN88R4Yj",
        "colab_type": "text"
      },
      "source": [
        "Write a program to prompt the user for hours and rate per hour using input to compute gross pay. Pay the hourly rate for the hours up to 40 and 1.5 times the hourly rate for all hours worked above 40 hours. Use 45 hours and a rate of 10.50 per hour to test the program (the pay should be 498.75). You should use **input** to read a string and **float()** to convert the string to a number. Do not worry about error checking the user input - assume the user types numbers properly."
      ]
    },
    {
      "cell_type": "code",
      "metadata": {
        "id": "o6j17sN6SAl6",
        "colab_type": "code",
        "colab": {}
      },
      "source": [
        "hrs = input(\"Enter Hours:\")\n",
        "h = float(hrs)\n",
        "rate = input(\"Enter Rate:\")\n",
        "r = float(rate)\n",
        "if h > 40:\n",
        "    reg = h * r\n",
        "    otp = (h-40.0) * (r * 0.5)\n",
        "    xp = reg + otp\n",
        "else:\n",
        "    xp = h * r\n",
        "print(xp)"
      ],
      "execution_count": null,
      "outputs": []
    },
    {
      "cell_type": "markdown",
      "metadata": {
        "id": "yPjW-G7WSC8s",
        "colab_type": "text"
      },
      "source": [
        "Write a program to prompt for a score between 0.0 and 1.0. If the score is out of range, print an error. If the score is between 0.0 and 1.0, print a grade using the following table:\n",
        "Score Grade\n",
        ">= 0.9 A\n",
        ">= 0.8 B\n",
        ">= 0.7 C\n",
        ">= 0.6 D\n",
        "< 0.6 F\n",
        "If the user enters a value out of range, print a suitable error message and exit. For the test, enter a score of 0.85."
      ]
    },
    {
      "cell_type": "code",
      "metadata": {
        "id": "GGOdrfwXSGul",
        "colab_type": "code",
        "colab": {}
      },
      "source": [
        "score = input(\"Enter Score: \")\n",
        "x = float(score)\n",
        "if x <= 0.0 and x >= 1.0:\n",
        "    print(\"Error\")\n",
        "else:\n",
        "    0.0 < x < 1.0\n",
        "if x >= 0.9:\n",
        "\tprint(\"A\")\n",
        "elif x >= 0.8:\n",
        "    print(\"B\")\n",
        "elif x >= 0.7:\n",
        "    print(\"C\")\n",
        "elif x >= 0.6:\n",
        "    print(\"D\")\n",
        "else: \n",
        "    x < 0.6\n",
        "    print(\"F\")"
      ],
      "execution_count": null,
      "outputs": []
    },
    {
      "cell_type": "markdown",
      "metadata": {
        "id": "0nKcb7bRSKJB",
        "colab_type": "text"
      },
      "source": [
        "Write a program to prompt the user for hours and rate per hour using input to compute gross pay. Pay should be the normal rate for hours up to 40 and time-and-a-half for the hourly rate for all hours worked above 40 hours. Put the logic to do the computation of pay in a function called **computepay()** and use the function to do the computation. The function should return a value. Use 45 hours and a rate of 10.50 per hour to test the program (the pay should be 498.75). You should use **input** to read a string and **float()** to convert the string to a number. Do not worry about error checking the user input unless you want to - you can assume the user types numbers properly. Do not name your variable sum or use the sum() function."
      ]
    },
    {
      "cell_type": "code",
      "metadata": {
        "id": "GU2l2JQdST7u",
        "colab_type": "code",
        "colab": {}
      },
      "source": [
        "def computepay(h,r):\n",
        "    if h > 40:\n",
        "        p = 1.5 * r * (h - 40) + (40 *r)\n",
        "    else:\n",
        "        p = h * r\n",
        "    return p\n",
        "    \n",
        "hrs = input(\"Enter Hours:\")\n",
        "hr = float(hrs)\n",
        "rphrs = input(\"Enter rate per hour:\")\n",
        "rphr = float(rphrs)\n",
        "\n",
        "p = computepay(hr,rphr)\n",
        "print(\"Pay\", p)"
      ],
      "execution_count": null,
      "outputs": []
    },
    {
      "cell_type": "markdown",
      "metadata": {
        "id": "TnzH51vKSWFK",
        "colab_type": "text"
      },
      "source": [
        "Write a program that repeatedly prompts a user for integer numbers until the user enters 'done'. Once 'done' is entered, print out the largest and smallest of the numbers. If the user enters anything other than a valid number catch it with a try/except and put out an appropriate message and ignore the number. Enter 7, 2, bob, 10, and 4 and match the output below."
      ]
    },
    {
      "cell_type": "code",
      "metadata": {
        "id": "CvUdeP2HSavY",
        "colab_type": "code",
        "colab": {}
      },
      "source": [
        "largest = None\n",
        "smallest = None\n",
        "\n",
        "while True:\n",
        "    try:\n",
        "        num = input(\"Enter a number: \")\n",
        "        if num == 'done':\n",
        "            break\n",
        "        n = int(num)\n",
        "        if largest is None or n > largest:\n",
        "            largest = n\n",
        "\telif smallest is None or n < smallest:\n",
        "            smallest = n\n",
        "\t\t\t\n",
        "    except:\n",
        "        print(\"Invalid input\")\n",
        "        \n",
        "print(\"Maximum is\", largest)\n",
        "print(\"Minimum is\", smallest)\t"
      ],
      "execution_count": null,
      "outputs": []
    }
  ]
}