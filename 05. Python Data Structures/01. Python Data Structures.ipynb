{
  "nbformat": 4,
  "nbformat_minor": 0,
  "metadata": {
    "colab": {
      "name": "05. Python Data Structures.ipynb",
      "provenance": []
    },
    "kernelspec": {
      "name": "python3",
      "display_name": "Python 3"
    }
  },
  "cells": [
    {
      "cell_type": "markdown",
      "metadata": {
        "id": "ALoE_YuFcZM-",
        "colab_type": "text"
      },
      "source": [
        "Write code using find() and string slicing (see section 6.10) to extract the number at the end of the line below. Convert the extracted value to a floating point number and print it out."
      ]
    },
    {
      "cell_type": "code",
      "metadata": {
        "id": "lhvAfRQicc5o",
        "colab_type": "code",
        "colab": {}
      },
      "source": [
        "text = \"X-DSPAM-Confidence:    0.8475\";\n",
        "x = text.find('0')\n",
        "y = text[x:x+6]\n",
        "print(float(y))"
      ],
      "execution_count": null,
      "outputs": []
    },
    {
      "cell_type": "markdown",
      "metadata": {
        "id": "q8Q6QLmvdVHU",
        "colab_type": "text"
      },
      "source": [
        "Write a program that prompts for a file name, then opens that file and reads through the file, and print the contents of the file in upper case. Use the file **words.txt** to produce the output below."
      ]
    },
    {
      "cell_type": "code",
      "metadata": {
        "id": "zcdzXf88uFDr",
        "colab_type": "code",
        "colab": {}
      },
      "source": [
        "# Use words.txt as the file name\n",
        "fname = input(\"Enter file name: \")\n",
        "fh = open(fname)\n",
        "for line in fh :\n",
        "    line = line.upper()\n",
        "    line = line.rstrip()\n",
        "    print(line)"
      ],
      "execution_count": null,
      "outputs": []
    },
    {
      "cell_type": "markdown",
      "metadata": {
        "id": "hORm-c5Uu4je",
        "colab_type": "text"
      },
      "source": [
        "Write a program that prompts for a file name, then opens that file and reads through the file, looking for lines of the form:\n",
        "\n",
        "X-DSPAM-Confidence:    0.8475\n",
        "\n",
        "Count these lines and extract the floating point values from each of the lines and compute the average of those values and produce an output as shown below. Do not use the sum() function or a variable named sum in your solution."
      ]
    },
    {
      "cell_type": "code",
      "metadata": {
        "id": "2FakKEvEw8fy",
        "colab_type": "code",
        "colab": {}
      },
      "source": [
        "# Use the file name mbox-short.txt as the file name\n",
        "fname = input(\"Enter file name: \")\n",
        "fh = open(fname)\n",
        "count = 0\n",
        "average = 0\n",
        "for line in fh:\n",
        "    if not line.startswith(\"X-DSPAM-Confidence:\") : continue\n",
        "    average += float(line[20:-1].strip())\n",
        "    count = count + 1  \n",
        "print(\"Average spam confidence:\", (average/count))"
      ],
      "execution_count": null,
      "outputs": []
    },
    {
      "cell_type": "markdown",
      "metadata": {
        "id": "6bIrvhaTjtdM",
        "colab_type": "text"
      },
      "source": [
        "Open the file **romeo.txt** and read it line by line. For each line, split the line into a list of words using the **split()** method. The program should build a list of words. For each word on each line check to see if the word is already in the list and if not append it to the list. When the program completes, sort and print the resulting words in alphabetical order."
      ]
    },
    {
      "cell_type": "code",
      "metadata": {
        "id": "wh-oBwKxjx0Y",
        "colab_type": "code",
        "colab": {}
      },
      "source": [
        "fname = input(\"Enter file name: \")\n",
        "fh = open(fname)\n",
        "lst = list()\n",
        "for line in fh:\n",
        "    word= line.rstrip().split()\n",
        "    for element in word:\n",
        "        if element in lst:\n",
        "            continue\n",
        "        else:\n",
        "            lst.append(element)\n",
        "lst.sort()\n",
        "print(lst)"
      ],
      "execution_count": null,
      "outputs": []
    },
    {
      "cell_type": "markdown",
      "metadata": {
        "id": "b_hOS1BIvc7s",
        "colab_type": "text"
      },
      "source": [
        "Open the file **mbox-short.txt** and read it line by line. When you find a line that starts with 'From ' like the following line:\n",
        "\n",
        "From stephen.marquard@uct.ac.za Sat Jan  5 09:14:16 2008\n",
        "\n",
        "You will parse the From line using split() and print out the second word in the line (i.e. the entire address of the person who sent the message). Then print out a count at the end."
      ]
    },
    {
      "cell_type": "code",
      "metadata": {
        "id": "9dGouAbN4Ja4",
        "colab_type": "code",
        "colab": {}
      },
      "source": [
        "fname = input(\"Enter file name: \")\n",
        "fh = open(fname)\n",
        "count = 0\n",
        "for line in fh:\n",
        "    if not line.startswith('From'):\n",
        "        continue\n",
        "    if line.startswith('From:'):\n",
        "        continue\n",
        "    else:\n",
        "        line = line.split()\n",
        "        line = line[1]\n",
        "        print(line)\n",
        "    count += 1\n",
        "print(\"There were\",count,\"lines in the file with From as the first word\")"
      ],
      "execution_count": null,
      "outputs": []
    },
    {
      "cell_type": "markdown",
      "metadata": {
        "id": "aXe84Xy3KjaT",
        "colab_type": "text"
      },
      "source": [
        "Write a program to read through the **mbox-short.txt** and figure out who has sent the greatest number of mail messages. The program looks for 'From ' lines and takes the second word of those lines as the person who sent the mail. The program creates a Python dictionary that maps the sender's mail address to a count of the number of times they appear in the file. After the dictionary is produced, the program reads through the dictionary using a maximum loop to find the most prolific committer."
      ]
    },
    {
      "cell_type": "code",
      "metadata": {
        "id": "vcVP0c_ZKlt3",
        "colab_type": "code",
        "colab": {}
      },
      "source": [
        "name = input(\"Enter file:\")\n",
        "if len(name) < 1 : name = \"mbox-short.txt\"\n",
        "handle = open(name)\n",
        "words = list()\n",
        "count = dict()\n",
        "\n",
        "for line in handle:\n",
        "\tline = line.rstrip()\n",
        "\tif line.startswith('From ') :\n",
        "\t\tline = line.split()\n",
        "\t\twords.append(line[1])\n",
        "\n",
        "for w in words:\n",
        "\tcount[w]= count.get(w,0)+1\n",
        "\n",
        "bigcount =None\n",
        "bigword = None\n",
        "for key,values in count.items():\n",
        "\tif bigcount is None or values>bigcount:\n",
        "\t\tbigcount = values\n",
        "\t\tbigword = key\n",
        "print(bigword,bigcount)"
      ],
      "execution_count": null,
      "outputs": []
    },
    {
      "cell_type": "markdown",
      "metadata": {
        "id": "24TMjDLjM4Zr",
        "colab_type": "text"
      },
      "source": [
        "Write a program to read through the **mbox-short.txt** and figure out the distribution by hour of the day for each of the messages. You can pull the hour out from the 'From ' line by finding the time and then splitting the string a second time using a colon.\n",
        "\n",
        "From stephen.marquard@uct.ac.za Sat Jan  5 09:14:16 2008\n",
        "\n",
        "Once you have accumulated the counts for each hour, print out the counts, sorted by hour as shown below."
      ]
    },
    {
      "cell_type": "code",
      "metadata": {
        "id": "MIY7XD5sM3JL",
        "colab_type": "code",
        "colab": {}
      },
      "source": [
        "name = raw_input(\"Enter file:\")\n",
        "if len(name) < 1 : name = \"mbox-short.txt\"\n",
        "handle = open(name)\n",
        "d=dict()\n",
        "for line in handle:\n",
        "    if not line.startswith(\"From \"): \n",
        "        continue\n",
        "    else:    \n",
        "        line=line.split()\n",
        "        line=line[5]\n",
        "        line=line[0:2]\n",
        "        d[line]=d.get(line,0)+1\n",
        "\n",
        "lst=list()        \n",
        "for value,count in d.items():\n",
        "    lst.append((value,count))\n",
        "\n",
        "lst.sort()\n",
        "for value,count in lst:\n",
        "    print(value,count)"
      ],
      "execution_count": null,
      "outputs": []
    }
  ]
}
